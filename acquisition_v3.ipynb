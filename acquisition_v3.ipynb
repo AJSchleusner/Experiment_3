{
 "cells": [
  {
   "cell_type": "markdown",
   "id": "26f01bea",
   "metadata": {},
   "source": [
    "## **Imports**"
   ]
  },
  {
   "cell_type": "code",
   "execution_count": 1,
   "id": "46f7178f",
   "metadata": {},
   "outputs": [
    {
     "data": {
      "text/html": [
       "\n",
       "    <table style=\"font-size: 20px; border-collapse: collapse; font-family: monospace;\">\n",
       "        <tr>\n",
       "            <th class=\"header\">Instrument</th>\n",
       "            <th class=\"header\">Connected</th>\n",
       "            <th class=\"header\">Address</th>\n",
       "        </tr>\n",
       "\n",
       "    <style>\n",
       "        .header {\n",
       "            border: 1px solid #ccc;\n",
       "            padding: 8px;\n",
       "            text-align: center;\n",
       "            font-weight: bold;\n",
       "        }\n",
       "    </style>\n",
       "    \n",
       "        <tr>\n",
       "            <td style=\"border:1px solid #ccc; padding:6px; text-align:center;\">VNA</td>\n",
       "            <td style=\"border:1px solid #ccc; padding:6px; text-align:center;; color: #4CAF50; font-weight: bold;\">✔</td>\n",
       "            <td style=\"border:1px solid #ccc; padding:6px; text-align:center;\">GPIB0::2::INSTR</td>\n",
       "        </tr>\n",
       "        \n",
       "        <tr>\n",
       "            <td style=\"border:1px solid #ccc; padding:6px; text-align:center;\">SR830</td>\n",
       "            <td style=\"border:1px solid #ccc; padding:6px; text-align:center;; color: #4CAF50; font-weight: bold;\">✔</td>\n",
       "            <td style=\"border:1px solid #ccc; padding:6px; text-align:center;\">GPIB0::10::INSTR</td>\n",
       "        </tr>\n",
       "        \n",
       "        <tr>\n",
       "            <td style=\"border:1px solid #ccc; padding:6px; text-align:center;\">SR844</td>\n",
       "            <td style=\"border:1px solid #ccc; padding:6px; text-align:center;; color: #4CAF50; font-weight: bold;\">✔</td>\n",
       "            <td style=\"border:1px solid #ccc; padding:6px; text-align:center;\">GPIB0::11::INSTR</td>\n",
       "        </tr>\n",
       "        \n",
       "        <tr>\n",
       "            <td style=\"border:1px solid #ccc; padding:6px; text-align:center;\">DPG202</td>\n",
       "            <td style=\"border:1px solid #ccc; padding:6px; text-align:center;; color: #F44336; font-weight: bold;\">✘</td>\n",
       "            <td style=\"border:1px solid #ccc; padding:6px; text-align:center;\">COM4</td>\n",
       "        </tr>\n",
       "        \n",
       "        <tr>\n",
       "            <td style=\"border:1px solid #ccc; padding:6px; text-align:center;\">Yoko (lch)</td>\n",
       "            <td style=\"border:1px solid #ccc; padding:6px; text-align:center;; color: #4CAF50; font-weight: bold;\">✔</td>\n",
       "            <td style=\"border:1px solid #ccc; padding:6px; text-align:center;\">GPIB0::7::INSTR</td>\n",
       "        </tr>\n",
       "        \n",
       "        <tr>\n",
       "            <td style=\"border:1px solid #ccc; padding:6px; text-align:center;\">Yoko (rgd)</td>\n",
       "            <td style=\"border:1px solid #ccc; padding:6px; text-align:center;; color: #4CAF50; font-weight: bold;\">✔</td>\n",
       "            <td style=\"border:1px solid #ccc; padding:6px; text-align:center;\">GPIB0::1::INSTR</td>\n",
       "        </tr>\n",
       "        \n",
       "        <tr>\n",
       "            <td style=\"border:1px solid #ccc; padding:6px; text-align:center;\">Yoko (lgt)</td>\n",
       "            <td style=\"border:1px solid #ccc; padding:6px; text-align:center;; color: #4CAF50; font-weight: bold;\">✔</td>\n",
       "            <td style=\"border:1px solid #ccc; padding:6px; text-align:center;\">GPIB0::21::INSTR</td>\n",
       "        </tr>\n",
       "        \n",
       "        <tr>\n",
       "            <td style=\"border:1px solid #ccc; padding:6px; text-align:center;\">Yoko (rgt)</td>\n",
       "            <td style=\"border:1px solid #ccc; padding:6px; text-align:center;; color: #4CAF50; font-weight: bold;\">✔</td>\n",
       "            <td style=\"border:1px solid #ccc; padding:6px; text-align:center;\">GPIB0::6::INSTR</td>\n",
       "        </tr>\n",
       "        \n",
       "        <tr>\n",
       "            <td style=\"border:1px solid #ccc; padding:6px; text-align:center;\">Yoko (lres)</td>\n",
       "            <td style=\"border:1px solid #ccc; padding:6px; text-align:center;; color: #4CAF50; font-weight: bold;\">✔</td>\n",
       "            <td style=\"border:1px solid #ccc; padding:6px; text-align:center;\">GPIB0::24::INSTR</td>\n",
       "        </tr>\n",
       "        \n",
       "        <tr>\n",
       "            <td style=\"border:1px solid #ccc; padding:6px; text-align:center;\">Yoko (mres)</td>\n",
       "            <td style=\"border:1px solid #ccc; padding:6px; text-align:center;; color: #4CAF50; font-weight: bold;\">✔</td>\n",
       "            <td style=\"border:1px solid #ccc; padding:6px; text-align:center;\">GPIB0::25::INSTR</td>\n",
       "        </tr>\n",
       "        \n",
       "        <tr>\n",
       "            <td style=\"border:1px solid #ccc; padding:6px; text-align:center;\">33500B (sign)</td>\n",
       "            <td style=\"border:1px solid #ccc; padding:6px; text-align:center;; color: #4CAF50; font-weight: bold;\">✔</td>\n",
       "            <td style=\"border:1px solid #ccc; padding:6px; text-align:center;\">GPIB0::19::INSTR</td>\n",
       "        </tr>\n",
       "        \n",
       "        <tr>\n",
       "            <td style=\"border:1px solid #ccc; padding:6px; text-align:center;\">33500B (fila)</td>\n",
       "            <td style=\"border:1px solid #ccc; padding:6px; text-align:center;; color: #4CAF50; font-weight: bold;\">✔</td>\n",
       "            <td style=\"border:1px solid #ccc; padding:6px; text-align:center;\">GPIB0::17::INSTR</td>\n",
       "        </tr>\n",
       "        </table>"
      ],
      "text/plain": [
       "<IPython.core.display.HTML object>"
      ]
     },
     "metadata": {},
     "output_type": "display_data"
    }
   ],
   "source": [
    "import time\n",
    "import numpy as np\n",
    "import matplotlib.pyplot as plt\n",
    "\n",
    "from tabulate import tabulate\n",
    "from IPython.display import display, HTML,clear_output\n",
    "from tqdm import tqdm\n",
    "\n",
    "import sys\n",
    "sys.path.append(\"F:\\Austin\\helpers\")\n",
    "from helpers.experiment_v3 import *\n",
    "#from openfiles import *\n",
    "\n",
    "# Importing Instrument Drivers\n",
    "from pymeasure.instruments.srs import sr830, sr844\n",
    "from pymeasure.instruments.yokogawa import yokogawa7651, yokogawaGS200\n",
    "from pymeasure.instruments.agilent import Agilent33500\n",
    "#from newinstruments.SignalHound import SignalHoundSA124B\n",
    "from newinstruments.SignalCore import SignalCore\n",
    "from newinstruments.BlueFors import BlueFors\n",
    "#from newinstruments.HP8648B import *\n",
    "from newinstruments.mcc_daq import *\n",
    "from newinstruments.bncRF import *\n",
    "from newinstruments.vna_E5071_2 import *\n",
    "from newinstruments.DPG202 import *\n",
    "from lakeshore import Model372\n",
    "\n",
    "# Assigning Yokogawa GPIB Addresses\n",
    "yoko_lch    = yokogawaGS200.YokogawaGS200(\"GPIB0::7::INSTR\")  # Left channel electrode\n",
    "yoko_rgd    = yokogawaGS200.YokogawaGS200(\"GPIB0::1::INSTR\")  # Right channel, left gate electrode (guard)\n",
    "yoko_lgt    = yokogawaGS200.YokogawaGS200(\"GPIB0::21::INSTR\") # Left channel, left gate electrode\n",
    "yoko_rgt    = yokogawaGS200.YokogawaGS200(\"GPIB0::6::INSTR\")  # Left channel, right gate electrode\n",
    "yoko_lres   = yokogawa7651.Yokogawa7651(\"GPIB0::24::INSTR\")   # Left reservoir electrode dc component\n",
    "yoko_mres   = yokogawa7651.Yokogawa7651(\"GPIB0::25::INSTR\")   # Middle reservoir electrode dc component\n",
    "# Assigning Lock-in Amplifier GPIB Addresses\n",
    "lockin_LF   = sr830.SR830('GPIB0::10::INSTR')\n",
    "lockin_HF   = sr844.SR844('GPIB0::11::INSTR')\n",
    "# Assigning Agilent Source GPIB Addresses\n",
    "gen_sign    = Agilent33500(\"GPIB::19::INSTR\")\n",
    "gen_fila    = Agilent33500(\"GPIB::17::INSTR\")\n",
    "# Assigning VNA GPIB Address (if connected)\n",
    "vna         = E5071_2('GPIB0::2::INSTR')\n",
    "# Assigning Pressure Gauge COM Port\n",
    "#dpg202     = DPG202('COM4')\n",
    "\n",
    "# Unused Devices \n",
    "#bnc         = BNC845()\n",
    "#gen_high    = HP8648B(\"GPIB::20::INSTR\")\n",
    "#sigcore     = SignalCore(name=\"SignalCore\", address=\"10003410\")\n",
    "\n",
    "# Fridge Temperature Sensors\n",
    "bluefors    = BlueFors()\n",
    "\n",
    "# Print connection errors if printing=True\n",
    "connect_instruments(printing=False)\n",
    "# Print the table of instrument statuses\n",
    "show_connection_table(instrument_status);"
   ]
  },
  {
   "cell_type": "markdown",
   "id": "421f7828",
   "metadata": {},
   "source": [
    "## **Dictionaries**"
   ]
  },
  {
   "cell_type": "code",
   "execution_count": 9,
   "id": "21b7ea48",
   "metadata": {},
   "outputs": [
    {
     "name": "stdout",
     "output_type": "stream",
     "text": [
      "Attributes    Values\n",
      "------------  ------------------\n",
      "Vlch          0 V\n",
      "Vlgt          0 V\n",
      "Vrgt          0 V\n",
      "Vsign         10 mVpp\n",
      "Fsign         3 MHz\n",
      "Vrgd          0 V\n",
      "Vlres         0 V\n",
      "Vmres         0 V\n",
      "Vfila         10 mVpp\n",
      "Ffila         10 Hz\n",
      "freq_range    (3, 6) GHz\n",
      "power         -30 dBm\n",
      "elec_delay    10 ns\n",
      "set_vna_meas  ('meas', 'S21', 1)\n",
      "format        MLOG\n",
      "sweep_pts     1e+04 pts\n",
      "num_avg       1 avgs\n",
      "set_bw        1 kHz\n",
      "T_50K         50.9 K\n",
      "T_4K          3.5 K\n",
      "T_Still       696 mK\n",
      "T_MXC         58.7 mK\n",
      "H_still       0.648 W\n",
      "Per_MXC       0 %\n",
      "Rng_MXC       6 W\n"
     ]
    }
   ],
   "source": [
    "# Dictionaries for control of instrument functions\n",
    "control_instr_dict = {\n",
    "        # Sweepable Parameters\n",
    "                'Vlch': [   0,  yoko_lch, 'source_voltage',   'ramp_to_voltage',   'V'],\n",
    "                'Vlgt': [   0,  yoko_lgt, 'source_voltage',   'ramp_to_voltage',   'V'],\n",
    "                'Vrgt': [   0,  yoko_rgt, 'source_voltage',   'ramp_to_voltage',   'V'],\n",
    "               'Vsign': [0.01,  gen_sign,      'amplitude', 'ramp_to_amplitude', 'Vpp'],\n",
    "               'Fsign': [ 3e6,  gen_sign,      'frequency', 'ramp_to_frequency',  'Hz'],\n",
    "        # Constant Parameters\n",
    "                'Vrgd': [   0,  yoko_rgd, 'source_voltage',   'ramp_to_voltage',   'V'],\n",
    "               'Vlres': [   0, yoko_lres, 'source_voltage',   'ramp_to_voltage',   'V'],\n",
    "               'Vmres': [   0, yoko_lres, 'source_voltage',   'ramp_to_voltage',   'V'],\n",
    "               'Vfila': [0.01,  gen_fila,      'amplitude', 'ramp_to_amplitude', 'Vpp'],\n",
    "               'Ffila': [ 1e1,  gen_fila,      'frequency', 'ramp_to_frequency',  'Hz'],\n",
    "#             'hf_pow': [    -25,   sc,         'set_power',    'ramp_to_power',  'dB'],\n",
    "#            'hf_freq': [4.0*GHz,   sc,     'set_frequency','ramp_to_frequency',  'Hz'],\n",
    "#            'sa_freq': [  4*GHz,  sad,'set_freq_for_power','ramp_to_frequency',  'Hz']\n",
    "}\n",
    "\n",
    "# Dictionaries for control and readout of the VNA\n",
    "vna_control_dict = {\n",
    "        # Sweepable Parameters\n",
    "          'freq_range': [      (3.00e9, 6.00e9), vna,  'set_frequency_range',  'Hz'],\n",
    "               'power': [                   -30, vna,            'set_power', 'dBm'],\n",
    "          'elec_delay': [                 10e-9, vna, 'set_electrical_delay',   's'],\n",
    "        # Constant Parameters \n",
    "        'set_vna_meas': [    ('meas', 'S21', 1), vna,      'set_measure_def',    ''],\n",
    "              'format': [                'MLOG', vna,           'set_format',    ''], \n",
    "           'sweep_pts': [                 10001, vna,     'set_sweep_points', 'pts'],  \n",
    "             'num_avg': [                     1, vna,         'set_averages','avgs'],\n",
    "              'set_bw': [                   1e3, vna,             'set_ifbw',  'Hz'],\n",
    "}\n",
    "\n",
    "# Dictionaries for readout of instrument values\n",
    "readout_instr_dict = {\n",
    "                'Vlfx': [lockin_LF,           'x',  'V'],\n",
    "                'Vlfy': [lockin_LF,           'y',  'V'],\n",
    "                'Vhfx': [lockin_HF,           'x',  'V'],\n",
    "                'Vhfy': [lockin_HF,           'y',  'V'],\n",
    "            'vna_meas': [      vna, 'read_data_y', 'dB'],\n",
    "            'vna_freq': [      vna, 'get_fpoints', 'Hz']\n",
    "#             'sa_pow': [      sad, 'get_power_at_freq', 'dB']\n",
    "}\n",
    "\n",
    "# Dictionaries for readout of BlueFors values\n",
    "readout_bluefors_dict = {\n",
    "               'T_50K': [ bluefors,      lambda bf: bf.get_temperature(1), 'K'],\n",
    "                'T_4K': [ bluefors,      lambda bf: bf.get_temperature(2), 'K'],\n",
    "             'T_Still': [ bluefors,      lambda bf: bf.get_temperature(5), 'K'],\n",
    "               'T_MXC': [ bluefors,      lambda bf: bf.get_temperature(6), 'K'],\n",
    "             'H_still': [ bluefors,      lambda bf: bf.get_heater('a2_u'), 'W'],\n",
    "           'H_per_MXC': [ bluefors,       lambda bf: bf.get_heater('htr'), '%'],\n",
    "           'H_rng_MXC': [ bluefors, lambda bf: bf.get_heater('htr_range'), 'W']\n",
    "}\n",
    "\n",
    "# Create a new experiment instance where the dictionaries are applied\n",
    "expr = exp3(control_instr_dict, \n",
    "              vna_control_dict, \n",
    "            readout_instr_dict, \n",
    "         readout_bluefors_dict)\n",
    "\n",
    "# Constants for frequency conversions\n",
    "GHz = 1e9\n",
    "MHz = 1e6\n",
    "kHz = 1e3\n",
    "\n",
    "# Function to get the temperatures from the BlueFors fridge\n",
    "def get_temps():\n",
    "    temp_data = {}\n",
    "    for label, (device, func, units) in readout_bluefors_dict.items():\n",
    "        val = np.around(func(device), 2)\n",
    "        temp_data[label] = val\n",
    "        print(f\"{label}: {val} {units}\")\n",
    "    return temp_data"
   ]
  },
  {
   "cell_type": "markdown",
   "id": "ee9651ec",
   "metadata": {},
   "source": [
    "## **Experiment Implementation**\n",
    "\n",
    "Here is where the values for the specific experiment can be entered.  Default values for when this notebook is initialized are set in the dictionaries above.  However, when these values are changed anywhere else in the notebook, they will remain at that changed value until changed again or the notebook is restarted.  Values do not return to the dictionary defaults on their own."
   ]
  },
  {
   "cell_type": "code",
   "execution_count": 6,
   "id": "ea76079f",
   "metadata": {},
   "outputs": [
    {
     "name": "stdout",
     "output_type": "stream",
     "text": [
      "Attributes    Values\n",
      "------------  -----------------------------------------\n",
      "Vlch          0 V\n",
      "Vlgt          0 V\n",
      "Vrgt          0 V\n",
      "Vsign         10 mVpp\n",
      "Fsign         500 kHz\n",
      "Vrgd          0 V\n",
      "Vlres         0 V\n",
      "Vmres         0 V\n",
      "Vfila         10 mVpp\n",
      "Ffila         10 Hz\n",
      "freq_range    (4.5, 4.53) GHz\n",
      "power         10 dBm\n",
      "elec_delay    54 ns\n",
      "set_vna_meas  ('TEST_2', 'S21', 1)\n",
      "format        MLOG\n",
      "sweep_pts     2e+03 pts\n",
      "num_avg       2 avgs\n",
      "set_bw        500 Hz\n",
      "T_50K         52.8 K\n",
      "T_4K          3.55 K\n",
      "T_Still       641 mK\n",
      "T_MXC         36.6 mK\n",
      "comment1      20 dB extra attn, ZX60 Amps (2) on output\n"
     ]
    }
   ],
   "source": [
    "# Transport signal generator\n",
    "gen_out = 'off'\n",
    "gen_sign.output = gen_out\n",
    "\n",
    "expr.Vsign = 0.01\n",
    "expr.Fsign = 500*kHz\n",
    "\n",
    "expr.Vlch  = 0.00\n",
    "expr.Vrgd  = 0.00\n",
    "expr.Vlgt  = 0.00\n",
    "expr.Vrgt  = 0.00\n",
    "expr.Vlres = 0.00\n",
    "expr.Vmres = 0.00\n",
    "\n",
    "expr.set_vna_meas = ('TEST_2', 'S21', 1)\n",
    "expr.format = 'MLOG'\n",
    "expr.power =  10\n",
    "expr.set_bw = 500\n",
    "expr.sweep_pts = 2001\n",
    "expr.elec_delay = 54.0e-9\n",
    "expr.freq_range = (4.50*GHz, 4.53*GHz) \n",
    "expr.num_avg = 2\n",
    "expr.comment1 = f'20 dB extra attn, ZX60 Amps (2) on output'\n",
    "#exp.comment2 = f'vac -20dB \\ (RHS) \\ Vac {genout} \\ BNC ({str(sigout)}) att -40dBm'\n",
    "\n",
    "expr.table()"
   ]
  },
  {
   "cell_type": "code",
   "execution_count": 7,
   "id": "0f3ffe45",
   "metadata": {},
   "outputs": [
    {
     "name": "stderr",
     "output_type": "stream",
     "text": [
      "                                                               \r"
     ]
    },
    {
     "name": "stdout",
     "output_type": "stream",
     "text": [
      "Non-index columns: ['freq_range', 'power', 'vna_meas', 'vna_freq']\n",
      "Avoiding overwrite, new filename: 2025-07-16_Resonator_Power_36mK-1.db\n",
      "Data saved to database\n"
     ]
    }
   ],
   "source": [
    "\n",
    "expr.sweep_params(\n",
    "    var     =   ['power'],\n",
    "    s1      =   10, \n",
    "    s2      =   -30,   \n",
    "    num     =   81,\n",
    "    scale   =   'linear',\n",
    "    offset  =   [0]\n",
    ")\n",
    "\n",
    "expr.step_params(\n",
    "    var     =   [],\n",
    "    s1      =   0.001, \n",
    "    s2      =   0.002,   \n",
    "    num     =   3,\n",
    "    scale   =   'linear',\n",
    "    offset  =   [0]\n",
    ")\n",
    "\n",
    "\n",
    "# Set the experiment name\n",
    "exp_name = 'Resonator_Power_36mK'\n",
    "\n",
    "# Initialize the VNA for 1D VNA measurements\n",
    "expr.init_reads(printing=False);\n",
    "\n",
    "# Run the VNA experiment\n",
    "expr.run_experiment(exp_name, savedata=True);"
   ]
  },
  {
   "cell_type": "code",
   "execution_count": 8,
   "id": "3e591429",
   "metadata": {},
   "outputs": [],
   "source": [
    "vna.set_scale(15)"
   ]
  },
  {
   "cell_type": "code",
   "execution_count": 10,
   "id": "64171c97",
   "metadata": {},
   "outputs": [
    {
     "data": {
      "text/plain": [
       "False"
      ]
     },
     "execution_count": 10,
     "metadata": {},
     "output_type": "execute_result"
    }
   ],
   "source": [
    "vna.get_output()"
   ]
  },
  {
   "cell_type": "code",
   "execution_count": 6,
   "id": "b69d82bd",
   "metadata": {},
   "outputs": [
    {
     "data": {
      "text/plain": [
       "0.6708204"
      ]
     },
     "execution_count": 6,
     "metadata": {},
     "output_type": "execute_result"
    }
   ],
   "source": [
    "bluefors.get_heater('a2_u')"
   ]
  },
  {
   "cell_type": "code",
   "execution_count": 8,
   "id": "48a1de29",
   "metadata": {},
   "outputs": [
    {
     "data": {
      "text/plain": [
       "6.0"
      ]
     },
     "execution_count": 8,
     "metadata": {},
     "output_type": "execute_result"
    }
   ],
   "source": [
    "bluefors.get_heater('htr_range')"
   ]
  },
  {
   "cell_type": "code",
   "execution_count": null,
   "id": "f1607c65",
   "metadata": {},
   "outputs": [],
   "source": []
  }
 ],
 "metadata": {
  "kernelspec": {
   "display_name": "measure",
   "language": "python",
   "name": "python3"
  },
  "language_info": {
   "codemirror_mode": {
    "name": "ipython",
    "version": 3
   },
   "file_extension": ".py",
   "mimetype": "text/x-python",
   "name": "python",
   "nbconvert_exporter": "python",
   "pygments_lexer": "ipython3",
   "version": "3.9.18"
  }
 },
 "nbformat": 4,
 "nbformat_minor": 5
}
